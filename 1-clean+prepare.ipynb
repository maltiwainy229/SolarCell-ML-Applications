{
 "cells": [
  {
   "cell_type": "markdown",
   "metadata": {},
   "source": [
    "# Intro to HPC: Solar Cell project\n",
    "\n",
    "Project: Solar Power for Affordable Housing through Computational Design of Low-Cost/High-Efficiency Solar Cells.\n",
    "Author: AlvaroVM [https://alvarovm.github.io](http://alvarovm.github.io)\n",
    "\n",
    "Version: 0.0.2\n",
    "\n",
    "## Part 1: Cleaning and cannonizing DB\n",
    "\n",
    "The goal of this notebook is to clean  the file that containt the DyeDB generated from dumping a database of results from calculations and data minig literature. Given the complexity of the calculations, some of the cells are empty.\n",
    "\n",
    "Using a Pandas `Dataframe` we will open the data set replace missing values with zeros, and add descriptors and fingerprints that would be useful to create molecular maps and apply machine learning.\n",
    "\n",
    "**NOTE** It is important to complete this notebook in order to create a file with the data needed for the next activities (visualization, analysis and machine learning).\n"
   ]
  },
  {
   "cell_type": "markdown",
   "metadata": {},
   "source": [
    "\n",
    "### 1.1 Loading up packages and setting up variables\n",
    "\n",
    "The following lines will load the minimum packages needed to complete this excersice.\n",
    "\n",
    "\n",
    "All this packages were installed using the following script:\n",
    "``` bash\n",
    "conda env create -f environment2025.yml           #create environment within conda\n",
    "conda activate solarcelldata                      #activate environment\n",
    "python -m ipykernel -install -user -n solarcell   #add envinroment to a jupyter kernel\n",
    "```\n",
    "\n",
    "In this project will use `solarcelldata` kernel all ready installed on NERSC computers.\n",
    "\n"
   ]
  },
  {
   "cell_type": "code",
   "execution_count": 1,
   "metadata": {},
   "outputs": [
    {
     "name": "stderr",
     "output_type": "stream",
     "text": [
      "../code/utils.py:3: TqdmWarning: IProgress not found. Please update jupyter and ipywidgets. See https://ipywidgets.readthedocs.io/en/stable/user_install.html\n",
      "  from tqdm.autonotebook import tqdm\n"
     ]
    }
   ],
   "source": [
    "%matplotlib inline\n",
    "\n",
    "import sys\n",
    "import os\n",
    "SRC_DIR='..'\n",
    "\n",
    "\n",
    "import matplotlib.pyplot as plt\n",
    "import numpy as np\n",
    "\n",
    "import pandas as pd\n",
    "#https://github.com/jmcarpenter2/swifter\n",
    "#import swifter\n",
    "#2-TSNE-UMAP-map-cuda-Copy1\n",
    "\n",
    "from rdkit import Chem\n",
    "from rdkit.Chem import AllChem\n",
    "from rdkit import DataStructs \n",
    "from rdkit.Chem import Draw\n",
    "from rdkit.Chem.rdMolDescriptors import  GetHashedMorganFingerprint\n",
    "from rdkit.DataStructs import ConvertToNumpyArray\n",
    "\n",
    "\n",
    "## ADDING project code\n",
    "sys.path.append(os.path.join(SRC_DIR, 'code'))\n",
    "import utils #Helper functions. File located on code/utils.py\n",
    "\n",
    "utils.plot_settings2() #Setting up ploting variables\n",
    "\n",
    "\n",
    "results_path = os.path.join(SRC_DIR,'results')"
   ]
  },
  {
   "cell_type": "markdown",
   "metadata": {},
   "source": [
    "### 1.2 Tools to Cannonize SMILES :))\n",
    "\n",
    "In computational chemisty we can represent molecules using SMILES strings, which stands for **Simplified Molecular Input Line Entry System** [See ::wiki::](https://en.wikipedia.org/wiki/Simplified_Molecular_Input_Line_Entry_System). SMILES represent molecules in 2D, the elements, the order and special characters ( for example: `()`, `.`,`=`) indicate how the atoms are connected to form molecules. This representation missed the distances of the atoms or the angles, nevertheless, SMILES are useful to get the formula and identify chemical compounds. SMILES very useful and are widely adopted in many braches of computational chemisty, such as cheminformatics comunity. \n",
    "\n",
    "A problem of using SMILES is that the can be corrupted (invalid) easily, also there is not a single way to describe a molecule using SMILES, this more than one SMILES could produce the same molecule.\n"
   ]
  },
  {
   "cell_type": "code",
   "execution_count": 2,
   "metadata": {},
   "outputs": [],
   "source": [
    "from rdkit.Chem import MolFromSmiles as smi2mol\n",
    "\n",
    "\n",
    "import re\n",
    "\n",
    "def canon_smiles(smi):\n",
    "    \"\"\"\n",
    "    Function to cannonize a SMILE string accordingly with RDKIT package, thus the representation will be unique\n",
    "    Return type: Characters\n",
    "    \"\"\"\n",
    "    try:\n",
    "        m = smi2mol(smi)\n",
    "        sim = Chem.MolToSmiles(m, isomericSmiles=True, canonical=True)\n",
    "    except:\n",
    "        print(f'We cannot cannonize {smi}')\n",
    "        smi = 'nan'\n",
    "        \n",
    "    return smi\n",
    "    \n",
    "\n",
    "def CleanSMI(smi):\n",
    "    \"\"\"\n",
    "    Function to clean a SMILE string and reget rid of non standard characters \n",
    "    Return type: Characters\n",
    "    \"\"\"\n",
    "    try: \n",
    "        clean=re.sub(r'[<>%\\\\/?\\|]+', '', smi)\n",
    "    except:\n",
    "        print(f'We cannot clean {smi}')\n",
    "        clean =False\n",
    "    return clean\n",
    "\n",
    "def HardValidSMI(smi):\n",
    "    \"\"\"\n",
    "    A rule based function to validate a given SMILES string. Validad molecules are neutral molecules without metals or hyperconjugated bonds.\n",
    "    Return type: Boolean\n",
    "    True: If a match is found. \n",
    "    False: Charges, Ions and No Conjugated regions found.\n",
    "    \"\"\"\n",
    "\n",
    "    mysmile = CleanSMI(smi)\n",
    "\n",
    "    if mysmile != 'nan':\n",
    "        try: \n",
    "            illegalstring = re.search(r'\\\\|/|\\*|Fe|\\+\\+|\\.|\\|',mysmile) #--> Sanity check!\n",
    "        except:\n",
    "            print(f'Invalid SMILE {smi}')\n",
    "            illegalstring = True\n",
    "    else:\n",
    "        return False\n",
    "    \n",
    "    if illegalstring:\n",
    "        return False\n",
    "    else:\n",
    "        cansmile = canon_smiles(mysmile)\n",
    "        if cansmile is False:\n",
    "            return False\n",
    "        match = re.search(r'\\[\\w{1,3}[\\+-\\.\\d]+\\]|\\[\\w{2}\\]|\\.|\\(\\*\\)',cansmile)\n",
    "        if match:\n",
    "            return False\n",
    "        else:\n",
    "            conjuated = re.search(r'[a-z\\W]\\d+[a-zD-Z\\W]+\\d',mysmile) #r'[a-z\\W]\\d+[\\w\\W]+\\d' or use (r'[a-z\\W]\\d+[a-zD-Z\\W]+\\d',mysmile) )\n",
    "            if conjuated:\n",
    "                return True\n",
    "            else:\n",
    "                return False"
   ]
  },
  {
   "cell_type": "markdown",
   "metadata": {},
   "source": [
    "Testing `canon_smiles` function:"
   ]
  },
  {
   "cell_type": "code",
   "execution_count": 3,
   "metadata": {
    "scrolled": true
   },
   "outputs": [
    {
     "name": "stdout",
     "output_type": "stream",
     "text": [
      "The canonical form of Clc1ccc(c(c1)Cl)OCCn1cncc1 -> Clc1ccc(c(c1)Cl)OCCn1cncc1\n"
     ]
    }
   ],
   "source": [
    "smi = 'Clc1ccc(c(c1)Cl)OCCn1cncc1'\n",
    "print(f'The canonical form of {smi} -> {canon_smiles(smi)}')"
   ]
  },
  {
   "cell_type": "markdown",
   "metadata": {},
   "source": [
    "Unfortunately some of the SMILE that define the molecules are not valid. We have a function called `HardValidSMI` which validate whether the SMILES can be processed. See example"
   ]
  },
  {
   "cell_type": "code",
   "execution_count": 4,
   "metadata": {},
   "outputs": [
    {
     "name": "stdout",
     "output_type": "stream",
     "text": [
      "Q: Is this O=C1O[C@H]([C@@H](O)CO)C(O)=C1O a valid molecule? A: False\n"
     ]
    }
   ],
   "source": [
    "#smi=df['smi_post'].iloc[0]\n",
    "smi = 'O=C1O[C@H]([C@@H](O)CO)C(O)=C1O'\n",
    "print(f'Q: Is this {smi} a valid molecule? A: {HardValidSMI(smi)}')"
   ]
  },
  {
   "cell_type": "markdown",
   "metadata": {},
   "source": [
    "### 1.3 Vector fingerprint of a molecule\n",
    "\n",
    "In order to teach a computer chemistry, we need to convert molecules with an numerical object (matrix, vector, etc) that can be processed by machine learning algorithms. In this project we will convert SMILES strings in a vector unsing **Circular Morgan fingerprints** ([learn more](https://schwallergroup.github.io/practical-programming-in-chemistry/tutorials/lecture_05/03_rdkit_fingerprints.html)).  The fingerprint vectors could be binary (`0/1`) or scalar (`{1,2,..}`)."
   ]
  },
  {
   "cell_type": "markdown",
   "metadata": {},
   "source": [
    "![Morgan FP](https://blog.dnanexus.com/hs-fs/hubfs/Imported_Blog_Media/Morgan-Algorithm-1024x653.png?width=512&height=323&name=Morgan-Algorithm-1024x653.png)"
   ]
  },
  {
   "cell_type": "markdown",
   "metadata": {},
   "source": [
    "The following routines will help us to compute Morgan fingerprints from a given SMILES string:"
   ]
  },
  {
   "cell_type": "code",
   "execution_count": 5,
   "metadata": {},
   "outputs": [],
   "source": [
    "from rdkit.Chem.rdMolDescriptors import  GetHashedMorganFingerprint,GetMorganFingerprintAsBitVect\n",
    "from rdkit.DataStructs import ConvertToNumpyArray\n",
    "\n",
    "from rdkit import Chem\n",
    "from rdkit.Chem import rdFingerprintGenerator\n",
    "\n",
    "# Create a Morgan fingerprint generator\n",
    "\n",
    "\n",
    "def applyMorganFP(m,**kwargs):\n",
    "    \"\"\"\n",
    "    Function to compute Morgan FP with RDKIT, the argument must be a single SMILES string.\n",
    "    True: If a match is found. \n",
    "    False: Charges, Ions and No Conjugated regions found.\n",
    "    \"\"\"\n",
    "    fp_type='bit'\n",
    "    fp_args={'radius':6, 'nBits':2048}\n",
    "    \n",
    "    if 'fp_type' in kwargs:\n",
    "        fptype=kwargs['fp_type']\n",
    "    if 'fp_args' in kwargs:\n",
    "        fp_args=kwargs['fp_args']     \n",
    "\n",
    "    mfpgen = rdFingerprintGenerator.GetMorganGenerator(radius=fp_args['radius'], fpSize=fp_args['nBits'])\n",
    "\n",
    "    arr = np.zeros((1,))\n",
    "    if fptype == 'bit': \n",
    "        fp = mfpgen.GetFingerprint(m)  # Bit vector\n",
    "        arr = np.array(fp.ToList())\n",
    "    else:\n",
    "        cfp = mfpgen.GetCountFingerprint(mol)  # Count vector\n",
    "        arr = np.array(cfp.ToList())\n",
    "\n",
    "    return arr"
   ]
  },
  {
   "cell_type": "markdown",
   "metadata": {},
   "source": [
    "Testing a Morgan FP calculation"
   ]
  },
  {
   "cell_type": "code",
   "execution_count": 6,
   "metadata": {},
   "outputs": [
    {
     "name": "stdout",
     "output_type": "stream",
     "text": [
      " Morgan fingerprint of Clc1ccc(c(c1)Cl)OCCn1cncc1 is \n",
      " [1 0 1 1 1 1 1 1 1 1 1 1 1 0 1 1 1 1 1 1 1 0 1 1]\n"
     ]
    }
   ],
   "source": [
    "smi = 'Clc1ccc(c(c1)Cl)OCCn1cncc1'      #Define molecule\n",
    "smi= canon_smiles(smi)                 #Canonize molecule\n",
    "m = smi2mol(smi)                        # Create RDKIT mol object\n",
    "fp_array = applyMorganFP(m,fp_type='bit',fp_args={'radius':4, 'nBits':24}) #Compute molecular FP\n",
    "print(f' Morgan fingerprint of {smi} is \\n {fp_array}')"
   ]
  },
  {
   "cell_type": "code",
   "execution_count": 23,
   "metadata": {},
   "outputs": [
    {
     "data": {
      "image/png": "[encoded data removed]",
      "text/plain": [
       "<rdkit.Chem.rdchem.Mol at 0x7fd3cea59270>"
      ]
     },
     "execution_count": 23,
     "metadata": {},
     "output_type": "execute_result"
    }
   ],
   "source": [
    "m"
   ]
  },
  {
   "cell_type": "markdown",
   "metadata": {},
   "source": [
    "### 1.4 Molecular descriptors\n",
    "\n",
    "Generally speaking molecular properties are descriptors to identify molecules, and since those descriptors are numbers, they could be used for machine learning purposes. Unfortunately, many descriptors are unique and could lead to misrepresentations and be impossible to learn. Alternatively, we could use a combination of descriptors to create unique arrays to identify molecules.\n",
    "\n",
    "RDKIT provides a number of routines to compute descriptors ([see rdkit.Chem.Descriptors](https://www.rdkit.org/docs/source/rdkit.Chem.Descriptors.html)). The follow is an example to compute the molecular weight of a molecule."
   ]
  },
  {
   "cell_type": "code",
   "execution_count": 7,
   "metadata": {},
   "outputs": [
    {
     "data": {
      "text/plain": [
       "257.11999999999995"
      ]
     },
     "execution_count": 7,
     "metadata": {},
     "output_type": "execute_result"
    }
   ],
   "source": [
    "\n",
    "import rdkit.Chem.Descriptors as Descriptor\n",
    "smi = 'Clc1ccc(c(c1)Cl)OCCn1cncc1'      #Define molecule\n",
    "smi= canon_smiles(smi)                 #Canonize molecule\n",
    "m = smi2mol(smi)                        # Create RDKIT mol object\n",
    "\n",
    "Descriptor.MolWt(m)  #molecular weight of the molecule"
   ]
  },
  {
   "cell_type": "markdown",
   "metadata": {},
   "source": [
    "For this project we could use descritors defined in the following list:"
   ]
  },
  {
   "cell_type": "code",
   "execution_count": 8,
   "metadata": {},
   "outputs": [],
   "source": [
    "getonly=['NHOHCount', 'NOCount', 'NumAliphaticCarbocycles',\n",
    "                           'NumAliphaticHeterocycles', 'NumAliphaticRings',\n",
    "                           'NumAromaticCarbocycles', 'NumAromaticHeterocycles',\n",
    "                           'NumAromaticRings', 'NumHAcceptors', 'NumHDonors', \n",
    "                           'NumHeteroatoms', 'NumRadicalElectrons', 'NumRotatableBonds',\n",
    "                           'NumSaturatedCarbocycles', 'NumSaturatedHeterocycles', \n",
    "                           'NumSaturatedRings', 'NumValenceElectrons',\n",
    "                            ]"
   ]
  },
  {
   "cell_type": "markdown",
   "metadata": {},
   "source": [
    "## 1.4 Open Database"
   ]
  },
  {
   "cell_type": "markdown",
   "metadata": {},
   "source": [
    "The description of the organic dyes database for solar cells can be found [here](https://github.com/alvarovm/solarcelldata/wiki/Dye-DB). Our database is expresed a CSV file (spread sheet). The rows are molecules, and the columns have experimental and simulated properties. The molecules are described as SMILE string format. The properties include the wavelenght `lamnda` in *nm* units computed with the methods sTDA, ZINDO (z), Time depenent density functional theory (tddft), and experimental (exp); extinction coefficient (epsilon); orbital enegies (HOMO, LUMO) in atomic units; first excitation energy (*f1*); solvent; and dipole moment (Debyes/*D*)."
   ]
  },
  {
   "cell_type": "code",
   "execution_count": 10,
   "metadata": {
    "scrolled": true
   },
   "outputs": [
    {
     "name": "stdout",
     "output_type": "stream",
     "text": [
      "Column names:\n",
      "\t0.- inchikey\n",
      "\t1.- smi_pre\n",
      "\t2.- smi_post\n",
      "\t3.- lambda_sTDA (nm)\n",
      "\t4.- f1_sTDA\n",
      "\t5.- lumo_dft\n",
      "\t6.- homo_dft\n",
      "\t7.- dmom_dft (D)\n",
      "\t8.- lambda_z (nm)\n",
      "\t9.- f1_z\n",
      "\t10.- lumo_z\n",
      "\t11.- homo_z\n",
      "\t12.- dmom_z (D)\n",
      "\t13.- lumo_mopac\n",
      "\t14.- homo_mopac\n",
      "\t15.- dmom_mopac (D)\n",
      "\t16.- lambda_tddft (nm)\n",
      "\t17.- f1_tddft\n",
      "\t18.- lambda_exp_max (nm)\n",
      "\t19.- epsilon_exp_max \n",
      "\t20.- lambda_exp_min (nm)\n",
      "\t21.- epsilon_exp_min \n",
      "\t22.- solvent\n",
      "Table Shape: (9879, 23)\n"
     ]
    }
   ],
   "source": [
    "df = pd.read_csv('../data/extended_db_Zindo_Nov_2019_V5.csv').fillna(value = 0)\n",
    "print('Column names:') \n",
    "for k, item in enumerate(df.columns.tolist()):\n",
    "    print(f'\\t{k}.- {item}')\n",
    "print('Table Shape: {}'.format(df.shape))"
   ]
  },
  {
   "cell_type": "code",
   "execution_count": 11,
   "metadata": {},
   "outputs": [
    {
     "data": {
      "text/plain": [
       "inchikey               9879\n",
       "smi_pre                9879\n",
       "smi_post               9879\n",
       "lambda_sTDA (nm)       9879\n",
       "f1_sTDA                9879\n",
       "lumo_dft               9879\n",
       "homo_dft               9879\n",
       "dmom_dft (D)           9879\n",
       "lambda_z (nm)          9879\n",
       "f1_z                   9879\n",
       "lumo_z                 9879\n",
       "homo_z                 9879\n",
       "dmom_z (D)             9879\n",
       "lumo_mopac             9879\n",
       "homo_mopac             9879\n",
       "dmom_mopac (D)         9879\n",
       "lambda_tddft (nm)      9879\n",
       "f1_tddft               9879\n",
       "lambda_exp_max (nm)    9879\n",
       "epsilon_exp_max        9879\n",
       "lambda_exp_min (nm)    9879\n",
       "epsilon_exp_min        9879\n",
       "solvent                9879\n",
       "dtype: int64"
      ]
     },
     "execution_count": 11,
     "metadata": {},
     "output_type": "execute_result"
    }
   ],
   "source": [
    "df.count()"
   ]
  },
  {
   "cell_type": "markdown",
   "metadata": {},
   "source": [
    "Notice that there are two SMILES: `smile_pre` and `smile_post`. The `smile_pre` are the SMILES generated directly from the molecules found in the literature, and `smiles_post` are a reduced version with only the active region of the molecule. Therefore  `smile_pre` are larger strings than the `smile_post`."
   ]
  },
  {
   "cell_type": "markdown",
   "metadata": {},
   "source": [
    "### 1.5 Exercises\n",
    "\n",
    "Try to complete the following tasks. You can copy/paste some pieces of code from the materials compiled [in this wiki](https://github.com/alvarovm/solarcelldata/wiki/Working-with-Data).\n",
    "\n"
   ]
  },
  {
   "cell_type": "markdown",
   "metadata": {},
   "source": [
    "* Remove systems without sTDA (disabled)"
   ]
  },
  {
   "cell_type": "code",
   "execution_count": 12,
   "metadata": {},
   "outputs": [],
   "source": [
    "df['nostda']=df['lambda_sTDA (nm)'].apply(np.isnan) #create a column that has True or False, depending on sTDA are NaN\n",
    "df = df[df.nostda == False]  #Filter all those that is has sTDA different than NaN\n",
    "\n",
    "#df = df.dropna()"
   ]
  },
  {
   "cell_type": "markdown",
   "metadata": {},
   "source": [
    "* Keep only the rows with `lambda_sTDA (nm)` that are bigger than zero.\n"
   ]
  },
  {
   "cell_type": "code",
   "execution_count": 13,
   "metadata": {},
   "outputs": [
    {
     "data": {
      "text/plain": [
       "(7177, 24)"
      ]
     },
     "execution_count": 13,
     "metadata": {},
     "output_type": "execute_result"
    }
   ],
   "source": [
    "df = df[df['lambda_sTDA (nm)'] >0 ]  #Filter those that are bigger than Zero\n",
    "df.shape   #Print the final size"
   ]
  },
  {
   "cell_type": "markdown",
   "metadata": {},
   "source": [
    "* Apply the function `HardValidSMI` to the columns with SMILES. How many cells have `True` and `False` ?\n"
   ]
  },
  {
   "cell_type": "code",
   "execution_count": 14,
   "metadata": {},
   "outputs": [
    {
     "data": {
      "text/plain": [
       "(5660, 25)"
      ]
     },
     "execution_count": 14,
     "metadata": {},
     "output_type": "execute_result"
    }
   ],
   "source": [
    "#example, Create a new column B with the results of applying foo(A)\n",
    "#df['B'] = df['A'].apply(foo) \n",
    "df[\"valid_smi\"] = df['smi_post'].apply(HardValidSMI)\n",
    "df = df[df['valid_smi'] == True]\n",
    "df.shape"
   ]
  },
  {
   "cell_type": "markdown",
   "metadata": {},
   "source": [
    "* Create a `smiles` column with cannonized SMILES using the `canon_smiles` function.\n"
   ]
  },
  {
   "cell_type": "code",
   "execution_count": 15,
   "metadata": {},
   "outputs": [],
   "source": [
    "df['cannon_smiles'] = df['smi_pre'].apply(canon_smiles)"
   ]
  },
  {
   "cell_type": "markdown",
   "metadata": {},
   "source": [
    "* Create column with a RDKIT `molecule` object using the SMILES.\n"
   ]
  },
  {
   "cell_type": "code",
   "execution_count": 16,
   "metadata": {},
   "outputs": [
    {
     "data": {
      "text/plain": [
       "(5660, 27)"
      ]
     },
     "execution_count": 16,
     "metadata": {},
     "output_type": "execute_result"
    }
   ],
   "source": [
    "# Create a new column \"mol\" containing RDKit Mol objects\n",
    "df[\"mol\"] = df[\"cannon_smiles\"].apply(smi2mol)\n",
    "df.shape"
   ]
  },
  {
   "cell_type": "markdown",
   "metadata": {},
   "source": [
    "* Create column with the Morgan fingerprint using the `applyMorganFP` to create a 2048 bit vectors using fragments up to radii 6, for example: `fp= applyMorganFP(mol,fptype='bit',fp_args={'radius':6, 'nBits':2048})`"
   ]
  },
  {
   "cell_type": "code",
   "execution_count": 17,
   "metadata": {},
   "outputs": [],
   "source": [
    "df[\"morgan_fp_array\"] = df[\"mol\"].apply(lambda m: applyMorganFP(m, fp_type='bit', fp_args={'radius': 6, 'nBits': 2048}))"
   ]
  },
  {
   "cell_type": "markdown",
   "metadata": {},
   "source": [
    "* Compute a set of descriptors (see list below) and add them as extra columns to the Dataframe\n"
   ]
  },
  {
   "cell_type": "code",
   "execution_count": 18,
   "metadata": {},
   "outputs": [
    {
     "data": {
      "text/plain": [
       "(5660, 45)"
      ]
     },
     "execution_count": 18,
     "metadata": {},
     "output_type": "execute_result"
    }
   ],
   "source": [
    "from rdkit.Chem import Descriptors\n",
    "\n",
    "\n",
    "# Create a small lookup dict\n",
    "desc_lookup = dict(Descriptors._descList)\n",
    "\n",
    "for name in getonly:\n",
    "    df[name] = df['mol'].apply(desc_lookup[name])\n",
    "\n",
    "\n",
    "df.shape"
   ]
  },
  {
   "cell_type": "markdown",
   "metadata": {},
   "source": [
    "* Compute the energy LUMO-HOMO gap from `mopac`, `zindo` and `dft`, compare them.\n"
   ]
  },
  {
   "cell_type": "code",
   "execution_count": 19,
   "metadata": {},
   "outputs": [
    {
     "data": {
      "text/plain": [
       "1      -0.911\n",
       "3      -0.751\n",
       "6       0.018\n",
       "7      -1.049\n",
       "8      -1.727\n",
       "        ...  \n",
       "9874   -0.916\n",
       "9875   -1.299\n",
       "9876   -0.930\n",
       "9877   -0.843\n",
       "9878   -0.647\n",
       "Name: lumo_mopac, Length: 5660, dtype: float64"
      ]
     },
     "execution_count": 19,
     "metadata": {},
     "output_type": "execute_result"
    }
   ],
   "source": [
    "df[\"lumo_mopac\"].apply(float)"
   ]
  },
  {
   "cell_type": "code",
   "execution_count": 20,
   "metadata": {},
   "outputs": [
    {
     "name": "stdout",
     "output_type": "stream",
     "text": [
      "         gap_mopac    gap_zindo      gap_dft\n",
      "count  5660.000000  5615.000000  5660.000000\n",
      "mean      7.686559     7.160840     7.948144\n",
      "std       0.784085     0.905837     1.095278\n",
      "min       5.032000     4.235600     4.011900\n",
      "25%       7.148000     6.544800     7.174975\n",
      "50%       7.626000     7.085700     7.875300\n",
      "75%       8.165000     7.710700     8.628650\n",
      "max      10.354000    10.222100    11.534500\n"
     ]
    }
   ],
   "source": [
    "cols = [\"lumo_mopac\", \"homo_mopac\", \"lumo_z\", \"lumo_dft\", \"homo_z\", \"homo_dft\"]\n",
    "#df = df.dropna(subset=[cols])\n",
    "#convert all to numeric\n",
    "for col in cols:\n",
    "    df[col] = df[col].apply(float)\n",
    "        \n",
    "\n",
    "#now compute gaps\n",
    "df[\"gap_mopac\"] = df[\"lumo_mopac\"] - df[\"homo_mopac\"]\n",
    "df[\"gap_zindo\"] = df[\"lumo_z\"]     - df[\"homo_z\"]\n",
    "df[\"gap_dft\"]   = df[\"lumo_dft\"]   - df[\"homo_dft\"]\n",
    "\n",
    "#quickly comparing the gaps\n",
    "print(df[[\"gap_mopac\", \"gap_zindo\", \"gap_dft\"]].describe())\n"
   ]
  },
  {
   "cell_type": "markdown",
   "metadata": {},
   "source": [
    "* Save the `Dataframe` as a pickle file."
   ]
  },
  {
   "cell_type": "code",
   "execution_count": 21,
   "metadata": {},
   "outputs": [],
   "source": [
    "df.to_pickle(\"my_dataframe.pkl\")"
   ]
  },
  {
   "cell_type": "markdown",
   "metadata": {},
   "source": [
    "###  1.6 Descritors list"
   ]
  },
  {
   "cell_type": "markdown",
   "metadata": {},
   "source": [
    "The following script will compute a group of molecular descriptors to a column of RDKIT molecule object 'mol'. Make sure `df['mol']` exist."
   ]
  },
  {
   "cell_type": "code",
   "execution_count": 22,
   "metadata": {},
   "outputs": [
    {
     "name": "stdout",
     "output_type": "stream",
     "text": [
      "Found 17 molecular descriptors in RDKIT\n"
     ]
    }
   ],
   "source": [
    "import inspect\n",
    "import rdkit.Chem.Descriptors as Descriptors\n",
    "\n",
    "from collections import OrderedDict\n",
    "\n",
    "getonly=['NHOHCount', 'NOCount', 'NumAliphaticCarbocycles',\n",
    "                           'NumAliphaticHeterocycles', 'NumAliphaticRings',\n",
    "                           'NumAromaticCarbocycles', 'NumAromaticHeterocycles',\n",
    "                           'NumAromaticRings', 'NumHAcceptors', 'NumHDonors', \n",
    "                           'NumHeteroatoms', 'NumRadicalElectrons', 'NumRotatableBonds',\n",
    "                           'NumSaturatedCarbocycles', 'NumSaturatedHeterocycles', \n",
    "                           'NumSaturatedRings', 'NumValenceElectrons',\n",
    "                            ]\n",
    "\n",
    "calc_props = OrderedDict(inspect.getmembers(Descriptors, inspect.isfunction))\n",
    "for key in list(calc_props.keys()):\n",
    "    if key.startswith('_'):\n",
    "        del calc_props[key]\n",
    "    else:\n",
    "        thisnot=False\n",
    "        for myprop in getonly:\n",
    "            if myprop == key:\n",
    "                thisnot=True\n",
    "        if not thisnot:\n",
    "            del calc_props[key]\n",
    "            \n",
    "from tqdm import tqdm\n",
    "def calc_all(dfc,calc_props,smiles_col='smiles'):\n",
    "    for key,val in tqdm (calc_props.items()):\n",
    "        dfc[key] = dfc['mol'].apply(val)\n",
    "    return dfc\n",
    "print('Found {} molecular descriptors in RDKIT'.format(len(calc_props)))\n",
    "#calc_props\n",
    "#df=calc_all(df,calc_props)"
   ]
  },
  {
   "cell_type": "code",
   "execution_count": null,
   "metadata": {},
   "outputs": [],
   "source": []
  }
 ],
 "metadata": {
  "kernelspec": {
   "display_name": "Solar Cell Data (HPC Bootcamp)",
   "language": "python",
   "name": "solarcell"
  },
  "language_info": {
   "codemirror_mode": {
    "name": "ipython",
    "version": 3
   },
   "file_extension": ".py",
   "mimetype": "text/x-python",
   "name": "python",
   "nbconvert_exporter": "python",
   "pygments_lexer": "ipython3",
   "version": "3.9.0"
  }
 },
 "nbformat": 4,
 "nbformat_minor": 4
}
