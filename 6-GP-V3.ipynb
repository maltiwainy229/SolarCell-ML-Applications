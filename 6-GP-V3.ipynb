{
 "cells": [
  {
   "cell_type": "markdown",
   "metadata": {},
   "source": [
    "# Intro to HPC: Solar Cell project\n",
    "\n",
    "Project: Solar Power for Affordable Housing through Computational Design of Low-Cost/High-Efficiency Solar Cells.\n",
    "Author: AlvaroVM [https://alvarovm.github.io](http://alvarovm.github.io)\n",
    "\n",
    "Version: 0.0.2\n",
    "\n",
    "## Part 6 Machine Learning with Gaussian Process Regression \n",
    "\n",
    "In this notebook we will use Gaussian Process Regression (GPR) to predict molecular optical activity, particularly to predict the spectral peak that corresponds to the first excitation energy. In this exercise we will need to the DyeDB and the data we agregated in previous notebooks.\n",
    "\n",
    "We would use GPR algorithm implemented in the GPflow code. This implementation relies on Tensorflow, which is a popular package for artificial intelligence and is portable among different computer architectures. Tensorflow could use GPUs and accelerate regression and inference. One advantage of fast regression is that we could optimize hyper parameters and create models that fit better the data.\n",
    "\n"
   ]
  },
  {
   "cell_type": "code",
   "execution_count": 1,
   "metadata": {},
   "outputs": [
    {
     "name": "stdout",
     "output_type": "stream",
     "text": [
      "        RDkit version : 2023.03.2\n"
     ]
    },
    {
     "name": "stderr",
     "output_type": "stream",
     "text": [
      "/tmp/ipykernel_2027900/2575822876.py:16: TqdmWarning: IProgress not found. Please update jupyter and ipywidgets. See https://ipywidgets.readthedocs.io/en/stable/user_install.html\n",
      "  from tqdm.autonotebook import tqdm\n",
      "2025-08-14 15:24:42.515813: I tensorflow/core/platform/cpu_feature_guard.cc:182] This TensorFlow binary is optimized to use available CPU instructions in performance-critical operations.\n",
      "To enable the following instructions: AVX2 FMA, in other operations, rebuild TensorFlow with the appropriate compiler flags.\n",
      "2025-08-14 15:24:47.420288: W tensorflow/compiler/tf2tensorrt/utils/py_utils.cc:38] TF-TRT Warning: Could not find TensorRT\n"
     ]
    },
    {
     "name": "stdout",
     "output_type": "stream",
     "text": [
      "   Tensorflow version : 2.13.0\n",
      "1 GPU(s) recognized by tensorflow: [PhysicalDevice(name='/physical_device:GPU:0', device_type='GPU')]\n",
      "       GPflow version : 2.8.1\n"
     ]
    }
   ],
   "source": [
    "%matplotlib inline\n",
    "import matplotlib.pyplot as plt\n",
    "import numpy as np\n",
    "import pandas as pd\n",
    "\n",
    "import rdkit\n",
    "from rdkit import Chem\n",
    "from rdkit.Chem import AllChem\n",
    "from rdkit import DataStructs \n",
    "from rdkit.Chem import Draw\n",
    "from rdkit.Chem.rdMolDescriptors import  GetHashedMorganFingerprint\n",
    "from rdkit.DataStructs import ConvertToNumpyArray\n",
    "from rdkit.Chem.Draw import IPythonConsole\n",
    "print(f'        RDkit version : {rdkit.__version__}')\n",
    "\n",
    "from tqdm.autonotebook import tqdm\n",
    "\n",
    "from collections import OrderedDict\n",
    "\n",
    "# utils\n",
    "from collections import OrderedDict\n",
    "from tqdm.autonotebook import tqdm\n",
    "# scientific python\n",
    "\n",
    "#import seaborn as sns\n",
    "import sklearn\n",
    "import sklearn.metrics\n",
    "import sklearn.model_selection\n",
    "import sklearn.preprocessing\n",
    "import sklearn.ensemble\n",
    "import scipy.stats\n",
    "\n",
    "import tensorflow as tf\n",
    "print(f'   Tensorflow version : {tf.__version__}')\n",
    "print(\"{} GPU(s) recognized by tensorflow:\".format(len(tf.config.list_physical_devices('GPU'))), tf.config.list_physical_devices('GPU'))\n",
    "\n",
    "\n",
    "import gpflow\n",
    "from gpflow.utilities import print_summary\n",
    "print(f'       GPflow version : {gpflow.__version__}')\n",
    "tqdm.pandas()\n"
   ]
  },
  {
   "cell_type": "markdown",
   "metadata": {},
   "source": [
    "#### Test GPU "
   ]
  },
  {
   "cell_type": "code",
   "execution_count": null,
   "metadata": {},
   "outputs": [],
   "source": [
    "# This cell gives us a couple options for debugging Tensorflow.\n",
    "# It is the first code cell, because it must be run, before the TensorFlow library is imported and it is most convenient to import all modules in the next cell\n",
    "# To enable this debugging, you must change one of the debugging flags to True and run this cell *before* importing running later cells\n",
    "# Currently this is only done manually from the notebook, but could be included as a JSON setting in the future if desirable\n",
    "\n",
    "# import os\n",
    "#os.environ['TF_CPP_MIN_LOG_LEVEL'] = '1'\n",
    "#export CUDA_VISIBLE_DEVICE=\n",
    "#export CUDA_VISIBLE_DEVICE=0\n",
    "#export CUDA_VISIBLE_DEVICE=0,1\n",
    "\n",
    "# Disable GPUS\n",
    "# os.environ['CUDA_VISIBLE_DEVICES'] = '-1'\n",
    "\n",
    "# print(f'   Tensorflow version : {tf.__version__}')\n",
    "# print(\"{} GPU(s) recognized by tensorflow:\".format(len(tf.config.list_physical_devices('GPU'))), tf.config.list_physical_devices('GPU'))\n"
   ]
  },
  {
   "cell_type": "code",
   "execution_count": 2,
   "metadata": {},
   "outputs": [],
   "source": [
    "def rmse(pred, target):\n",
    "    \"\"\"\n",
    "    Input Args:\n",
    "    pred: predictions numpy array\n",
    "    target :True label numpy array\n",
    "    return : rmse \n",
    "    \"\"\"\n",
    "    return np.sqrt(((pred - target) ** 2).mean())"
   ]
  },
  {
   "cell_type": "code",
   "execution_count": 3,
   "metadata": {},
   "outputs": [],
   "source": [
    "from rdkit.Chem import MolFromSmiles as smi2mol\n",
    "from rdkit.Chem.rdMolDescriptors import  GetHashedMorganFingerprint,GetMorganFingerprintAsBitVect\n",
    "\n",
    "\n",
    "from rdkit.Chem import MolFromSmiles as smi2mol\n",
    "def canon_smiles(smi):\n",
    "    try:\n",
    "        m = smi2mol(smi)\n",
    "        if m is None:\n",
    "            #print('hola'+smi)\n",
    "            return False\n",
    "        else:\n",
    "            return Chem.MolToSmiles(m, isomericSmiles=True, canonical=True)\n",
    "    except:\n",
    "        return False\n",
    "    \n",
    "def applyMorganFP(m,**kwargs):\n",
    "    fptype='bit'\n",
    "    \n",
    "    if 'fptype' in kwargs:\n",
    "        fptype=kwargs['fptype']\n",
    "    if 'fp_args' in kwargs:\n",
    "        fp_args=kwargs['fp_args']     \n",
    "    #fp_args = self.meta_data['fp_args']\n",
    "    #fptype = self.meta_data['fptype']\n",
    "    arr = np.zeros((1,))\n",
    "    if fptype == 'bit': \n",
    "        arr = np.zeros((1,))\n",
    "        #ConvertToNumpyArray(GetHashedMorganFingerprint(m, **fp_args), arr)\n",
    "        try:\n",
    "            arr = np.array(GetMorganFingerprintAsBitVect(m, **fp_args))\n",
    "        except:\n",
    "            print(Chem.MolToSmiles(m))\n",
    "    elif fptype == 'count':\n",
    "        #arr = np.zeros((1,))\n",
    "        ConvertToNumpyArray(GetHashedMorganFingerprint(m, **fp_args), arr)\n",
    "    return arr"
   ]
  },
  {
   "cell_type": "markdown",
   "metadata": {},
   "source": [
    "### Load data"
   ]
  },
  {
   "cell_type": "code",
   "execution_count": 5,
   "metadata": {},
   "outputs": [
    {
     "name": "stdout",
     "output_type": "stream",
     "text": [
      "Column names: ['inchikey', 'smi_pre', 'smi_post', 'lambda_sTDA (nm)', 'f1_sTDA', 'lumo_dft', 'homo_dft', 'dmom_dft (D)', 'lambda_z (nm)', 'f1_z', 'lumo_z', 'homo_z', 'dmom_z (D)', 'lumo_mopac', 'homo_mopac', 'dmom_mopac (D)', 'lambda_tddft (nm)', 'f1_tddft', 'lambda_exp_max (nm)', 'epsilon_exp_max ', 'lambda_exp_min (nm)', 'epsilon_exp_min ', 'solvent', 'nostda', 'smiles', 'mol', 'morgan_fp_array', 'NHOHCount', 'NOCount', 'NumAliphaticCarbocycles', 'NumAliphaticHeterocycles', 'NumAliphaticRings', 'NumAromaticCarbocycles', 'NumAromaticHeterocycles', 'NumAromaticRings', 'NumHAcceptors', 'NumHDonors', 'NumHeteroatoms', 'NumRadicalElectrons', 'NumRotatableBonds', 'NumSaturatedCarbocycles', 'NumSaturatedHeterocycles', 'NumSaturatedRings', 'NumValenceElectrons', 'valid_smi', 'cannon_smiles', 'gap_mopac', 'gap_zindo', 'gap_dft']\n",
      "Table Shape: (5660, 49)\n"
     ]
    }
   ],
   "source": [
    "df = pd.read_pickle('my_dataframe.pkl').fillna(value = 0)\n",
    "print('Column names: {}'.format(str(df.columns.tolist())))\n",
    "print('Table Shape: {}'.format(df.shape))\n",
    "#df.head(2)"
   ]
  },
  {
   "cell_type": "markdown",
   "metadata": {},
   "source": [
    "### Clean data"
   ]
  },
  {
   "cell_type": "code",
   "execution_count": 6,
   "metadata": {},
   "outputs": [
    {
     "name": "stdout",
     "output_type": "stream",
     "text": [
      "Table Shape: (5660, 49)\n"
     ]
    }
   ],
   "source": [
    "#df=df[df['lambda_tddft (nm)']>0]\n",
    "df=df[df['lambda_sTDA (nm)']>0]\n",
    "#df=df[df['cluster']>-1]\n",
    "print('Table Shape: {}'.format(df.shape))"
   ]
  },
  {
   "cell_type": "markdown",
   "metadata": {},
   "source": [
    "### Sample randomly a faction of the data and reset indexes"
   ]
  },
  {
   "cell_type": "code",
   "execution_count": 7,
   "metadata": {},
   "outputs": [],
   "source": [
    "df = df.sample(n=1000, replace=True, random_state=1)\n",
    "df = df.reset_index()"
   ]
  },
  {
   "cell_type": "code",
   "execution_count": 8,
   "metadata": {},
   "outputs": [
    {
     "data": {
      "text/html": [
       "<div>\n",
       "<style scoped>\n",
       "    .dataframe tbody tr th:only-of-type {\n",
       "        vertical-align: middle;\n",
       "    }\n",
       "\n",
       "    .dataframe tbody tr th {\n",
       "        vertical-align: top;\n",
       "    }\n",
       "\n",
       "    .dataframe thead th {\n",
       "        text-align: right;\n",
       "    }\n",
       "</style>\n",
       "<table border=\"1\" class=\"dataframe\">\n",
       "  <thead>\n",
       "    <tr style=\"text-align: right;\">\n",
       "      <th></th>\n",
       "      <th>index</th>\n",
       "      <th>inchikey</th>\n",
       "      <th>smi_pre</th>\n",
       "      <th>smi_post</th>\n",
       "      <th>lambda_sTDA (nm)</th>\n",
       "      <th>f1_sTDA</th>\n",
       "      <th>lumo_dft</th>\n",
       "      <th>homo_dft</th>\n",
       "      <th>dmom_dft (D)</th>\n",
       "      <th>lambda_z (nm)</th>\n",
       "      <th>...</th>\n",
       "      <th>NumRotatableBonds</th>\n",
       "      <th>NumSaturatedCarbocycles</th>\n",
       "      <th>NumSaturatedHeterocycles</th>\n",
       "      <th>NumSaturatedRings</th>\n",
       "      <th>NumValenceElectrons</th>\n",
       "      <th>valid_smi</th>\n",
       "      <th>cannon_smiles</th>\n",
       "      <th>gap_mopac</th>\n",
       "      <th>gap_zindo</th>\n",
       "      <th>gap_dft</th>\n",
       "    </tr>\n",
       "  </thead>\n",
       "  <tbody>\n",
       "    <tr>\n",
       "      <th>0</th>\n",
       "      <td>8935</td>\n",
       "      <td>YUDVHLAMTRTFDC-VVHMCBODSA-N</td>\n",
       "      <td>OC[C@H]1O[C@H]([C@@H]([C@@H]1O)O)n1c2ccc(cc2c2...</td>\n",
       "      <td>OC[C@H]1O[C@H]([C@@H]([C@@H]1O)O)n1c2ccc(cc2c2...</td>\n",
       "      <td>294.2</td>\n",
       "      <td>0.080234</td>\n",
       "      <td>-0.2163</td>\n",
       "      <td>-8.5046</td>\n",
       "      <td>1.21417</td>\n",
       "      <td>321.535784</td>\n",
       "      <td>...</td>\n",
       "      <td>3</td>\n",
       "      <td>0</td>\n",
       "      <td>1</td>\n",
       "      <td>1</td>\n",
       "      <td>144</td>\n",
       "      <td>True</td>\n",
       "      <td>OC[C@H]1O[C@H]([C@@H]([C@@H]1O)O)n1c2ccc(cc2c2...</td>\n",
       "      <td>7.863</td>\n",
       "      <td>7.4814</td>\n",
       "      <td>8.2883</td>\n",
       "    </tr>\n",
       "    <tr>\n",
       "      <th>1</th>\n",
       "      <td>373</td>\n",
       "      <td>GZMPURGRPFOJMG-UHFFFAOYSA-N</td>\n",
       "      <td>CCCCC(COc1cc(C=Cc2ccc(cc2)OC)c(cc1C=Cc1ccc(cc1...</td>\n",
       "      <td>C(COc1cc(C=Cc2ccc(cc2)OC)c(cc1C=Cc1ccc(cc1)OC)...</td>\n",
       "      <td>351.3</td>\n",
       "      <td>2.015994</td>\n",
       "      <td>0.1360</td>\n",
       "      <td>-6.9456</td>\n",
       "      <td>1.56888</td>\n",
       "      <td>333.022290</td>\n",
       "      <td>...</td>\n",
       "      <td>20</td>\n",
       "      <td>0</td>\n",
       "      <td>0</td>\n",
       "      <td>0</td>\n",
       "      <td>238</td>\n",
       "      <td>True</td>\n",
       "      <td>CCCCC(COc1cc(C=Cc2ccc(cc2)OC)c(cc1C=Cc1ccc(cc1...</td>\n",
       "      <td>7.451</td>\n",
       "      <td>7.2298</td>\n",
       "      <td>7.0816</td>\n",
       "    </tr>\n",
       "    <tr>\n",
       "      <th>2</th>\n",
       "      <td>5228</td>\n",
       "      <td>HCCOOGWHEHRKPQ-UHFFFAOYSA-N</td>\n",
       "      <td>COc1ccccc1C(CC(=O)C)O</td>\n",
       "      <td>COc1ccccc1C(CC(=O)C)O</td>\n",
       "      <td>262.4</td>\n",
       "      <td>0.000577</td>\n",
       "      <td>1.4699</td>\n",
       "      <td>-8.4554</td>\n",
       "      <td>4.85162</td>\n",
       "      <td>331.508552</td>\n",
       "      <td>...</td>\n",
       "      <td>4</td>\n",
       "      <td>0</td>\n",
       "      <td>0</td>\n",
       "      <td>0</td>\n",
       "      <td>76</td>\n",
       "      <td>True</td>\n",
       "      <td>COc1ccccc1C(CC(=O)C)O</td>\n",
       "      <td>9.178</td>\n",
       "      <td>8.7226</td>\n",
       "      <td>9.9253</td>\n",
       "    </tr>\n",
       "    <tr>\n",
       "      <th>3</th>\n",
       "      <td>8989</td>\n",
       "      <td>MLRDHYHIGKWOKE-UHFFFAOYSA-N</td>\n",
       "      <td>CCOC(=O)c1c(N)sc2c1c1ccccc1C2=Cc1ccc(cc1)C#N</td>\n",
       "      <td>CCOC(=O)c1c(N)sc2c1c1ccccc1C2=Cc1ccc(cc1)C#N</td>\n",
       "      <td>407.0</td>\n",
       "      <td>0.167684</td>\n",
       "      <td>-0.6600</td>\n",
       "      <td>-7.4398</td>\n",
       "      <td>5.78557</td>\n",
       "      <td>435.032275</td>\n",
       "      <td>...</td>\n",
       "      <td>3</td>\n",
       "      <td>0</td>\n",
       "      <td>0</td>\n",
       "      <td>0</td>\n",
       "      <td>132</td>\n",
       "      <td>True</td>\n",
       "      <td>CCOC(=O)c1c(N)sc2c1c1ccccc1C2=Cc1ccc(cc1)C#N</td>\n",
       "      <td>7.157</td>\n",
       "      <td>6.5014</td>\n",
       "      <td>6.7798</td>\n",
       "    </tr>\n",
       "    <tr>\n",
       "      <th>4</th>\n",
       "      <td>1361</td>\n",
       "      <td>QJVIEHMBGFEVQI-UHFFFAOYSA-N</td>\n",
       "      <td>CCC(=O)N1CC2CCCC(C1)N2CC=C(c1ccccc1)C</td>\n",
       "      <td>C(=O)N1CC2C(C1)N2CC=C(c1ccccc1)C</td>\n",
       "      <td>233.7</td>\n",
       "      <td>0.016594</td>\n",
       "      <td>1.3273</td>\n",
       "      <td>-8.9145</td>\n",
       "      <td>5.42059</td>\n",
       "      <td>291.521746</td>\n",
       "      <td>...</td>\n",
       "      <td>4</td>\n",
       "      <td>0</td>\n",
       "      <td>2</td>\n",
       "      <td>2</td>\n",
       "      <td>124</td>\n",
       "      <td>True</td>\n",
       "      <td>CCC(=O)N1CC2CCCC(C1)N2CC=C(c1ccccc1)C</td>\n",
       "      <td>9.204</td>\n",
       "      <td>9.1378</td>\n",
       "      <td>10.2418</td>\n",
       "    </tr>\n",
       "  </tbody>\n",
       "</table>\n",
       "<p>5 rows × 50 columns</p>\n",
       "</div>"
      ],
      "text/plain": [
       "   index                     inchikey  \\\n",
       "0   8935  YUDVHLAMTRTFDC-VVHMCBODSA-N   \n",
       "1    373  GZMPURGRPFOJMG-UHFFFAOYSA-N   \n",
       "2   5228  HCCOOGWHEHRKPQ-UHFFFAOYSA-N   \n",
       "3   8989  MLRDHYHIGKWOKE-UHFFFAOYSA-N   \n",
       "4   1361  QJVIEHMBGFEVQI-UHFFFAOYSA-N   \n",
       "\n",
       "                                             smi_pre  \\\n",
       "0  OC[C@H]1O[C@H]([C@@H]([C@@H]1O)O)n1c2ccc(cc2c2...   \n",
       "1  CCCCC(COc1cc(C=Cc2ccc(cc2)OC)c(cc1C=Cc1ccc(cc1...   \n",
       "2                              COc1ccccc1C(CC(=O)C)O   \n",
       "3       CCOC(=O)c1c(N)sc2c1c1ccccc1C2=Cc1ccc(cc1)C#N   \n",
       "4              CCC(=O)N1CC2CCCC(C1)N2CC=C(c1ccccc1)C   \n",
       "\n",
       "                                            smi_post  lambda_sTDA (nm)  \\\n",
       "0  OC[C@H]1O[C@H]([C@@H]([C@@H]1O)O)n1c2ccc(cc2c2...             294.2   \n",
       "1  C(COc1cc(C=Cc2ccc(cc2)OC)c(cc1C=Cc1ccc(cc1)OC)...             351.3   \n",
       "2                              COc1ccccc1C(CC(=O)C)O             262.4   \n",
       "3       CCOC(=O)c1c(N)sc2c1c1ccccc1C2=Cc1ccc(cc1)C#N             407.0   \n",
       "4                   C(=O)N1CC2C(C1)N2CC=C(c1ccccc1)C             233.7   \n",
       "\n",
       "    f1_sTDA  lumo_dft  homo_dft  dmom_dft (D)  lambda_z (nm)  ...  \\\n",
       "0  0.080234   -0.2163   -8.5046       1.21417     321.535784  ...   \n",
       "1  2.015994    0.1360   -6.9456       1.56888     333.022290  ...   \n",
       "2  0.000577    1.4699   -8.4554       4.85162     331.508552  ...   \n",
       "3  0.167684   -0.6600   -7.4398       5.78557     435.032275  ...   \n",
       "4  0.016594    1.3273   -8.9145       5.42059     291.521746  ...   \n",
       "\n",
       "   NumRotatableBonds  NumSaturatedCarbocycles  NumSaturatedHeterocycles  \\\n",
       "0                  3                        0                         1   \n",
       "1                 20                        0                         0   \n",
       "2                  4                        0                         0   \n",
       "3                  3                        0                         0   \n",
       "4                  4                        0                         2   \n",
       "\n",
       "   NumSaturatedRings  NumValenceElectrons  valid_smi  \\\n",
       "0                  1                  144       True   \n",
       "1                  0                  238       True   \n",
       "2                  0                   76       True   \n",
       "3                  0                  132       True   \n",
       "4                  2                  124       True   \n",
       "\n",
       "                                       cannon_smiles  gap_mopac  gap_zindo  \\\n",
       "0  OC[C@H]1O[C@H]([C@@H]([C@@H]1O)O)n1c2ccc(cc2c2...      7.863     7.4814   \n",
       "1  CCCCC(COc1cc(C=Cc2ccc(cc2)OC)c(cc1C=Cc1ccc(cc1...      7.451     7.2298   \n",
       "2                              COc1ccccc1C(CC(=O)C)O      9.178     8.7226   \n",
       "3       CCOC(=O)c1c(N)sc2c1c1ccccc1C2=Cc1ccc(cc1)C#N      7.157     6.5014   \n",
       "4              CCC(=O)N1CC2CCCC(C1)N2CC=C(c1ccccc1)C      9.204     9.1378   \n",
       "\n",
       "   gap_dft  \n",
       "0   8.2883  \n",
       "1   7.0816  \n",
       "2   9.9253  \n",
       "3   6.7798  \n",
       "4  10.2418  \n",
       "\n",
       "[5 rows x 50 columns]"
      ]
     },
     "execution_count": 8,
     "metadata": {},
     "output_type": "execute_result"
    }
   ],
   "source": [
    "df.head()"
   ]
  },
  {
   "cell_type": "code",
   "execution_count": 9,
   "metadata": {},
   "outputs": [],
   "source": [
    "getonly=['NHOHCount', 'NOCount', 'NumAliphaticCarbocycles',\n",
    "                           'NumAliphaticHeterocycles', 'NumAliphaticRings',\n",
    "                           'NumAromaticCarbocycles', 'NumAromaticHeterocycles',\n",
    "                           'NumAromaticRings', 'NumHAcceptors', 'NumHDonors', \n",
    "                           'NumHeteroatoms', 'NumRadicalElectrons', 'NumRotatableBonds',\n",
    "                           'NumSaturatedCarbocycles', 'NumSaturatedHeterocycles', \n",
    "                           'NumSaturatedRings', 'NumValenceElectrons',\n",
    "'qed','TPSA', 'MolLogP', 'MolMR','BalabanJ', 'BertzCT',\n",
    "'fr_Al_OH', 'fr_Al_OH_noTert', 'fr_ArN', 'fr_Ar_COO',\n",
    "                            'fr_Ar_N', 'fr_Ar_NH', 'fr_Ar_OH', 'fr_COO', 'fr_COO2', \n",
    "                            'fr_C_O', 'fr_C_O_noCOO', 'fr_C_S', 'fr_HOCCN', 'fr_Imine',\n",
    "                            'fr_NH0', 'fr_NH1', 'fr_NH2', 'fr_N_O', 'fr_Ndealkylation1',\n",
    "                            'fr_Ndealkylation2', 'fr_Nhpyrrole', 'fr_SH', 'fr_aldehyde',\n",
    "                            'fr_alkyl_carbamate', 'fr_alkyl_halide', 'fr_allylic_oxid', 'fr_amide',\n",
    "                            'fr_amidine', 'fr_aniline', 'fr_aryl_methyl', 'fr_azide', 'fr_azo',\n",
    "                            'fr_barbitur', 'fr_benzene', 'fr_benzodiazepine', 'fr_bicyclic',\n",
    "                            'fr_diazo', 'fr_dihydropyridine', 'fr_epoxide', 'fr_ester', 'fr_ether',\n",
    "                            'fr_furan', 'fr_guanido', 'fr_halogen', 'fr_hdrzine', 'fr_hdrzone', \n",
    "                            'fr_imidazole', 'fr_imide', 'fr_isocyan', 'fr_isothiocyan', 'fr_ketone',\n",
    "                            'fr_ketone_Topliss', 'fr_lactam', 'fr_lactone', 'fr_methoxy', 'fr_morpholine',\n",
    "                            'fr_nitrile', 'fr_nitro', 'fr_nitro_arom', 'fr_nitro_arom_nonortho', \n",
    "                            'fr_nitroso', 'fr_oxazole', 'fr_oxime', 'fr_para_hydroxylation', \n",
    "                            'fr_phenol', 'fr_phenol_noOrthoHbond', 'fr_phos_acid', 'fr_phos_ester', \n",
    "                            'fr_piperdine', 'fr_piperzine', 'fr_priamide', 'fr_prisulfonamd',\n",
    "                            'fr_pyridine', 'fr_quatN', 'fr_sulfide', 'fr_sulfonamd', 'fr_sulfone',\n",
    "                            'fr_term_acetylene', 'fr_tetrazole', 'fr_thiazole', 'fr_thiocyan', \n",
    "                            'fr_thiophene', 'fr_unbrch_alkane', 'fr_urea',\n",
    "                            'MolWt','MolLogP']\n",
    "getonly=['NHOHCount', 'NOCount', 'NumAliphaticCarbocycles',\n",
    "                           'NumAliphaticHeterocycles', 'NumAliphaticRings',\n",
    "                           'NumAromaticCarbocycles', 'NumAromaticHeterocycles',\n",
    "                           'NumAromaticRings', 'NumHAcceptors', 'NumHDonors', \n",
    "                           'NumHeteroatoms', 'NumRadicalElectrons', 'NumRotatableBonds',\n",
    "                           'NumSaturatedCarbocycles', 'NumSaturatedHeterocycles', \n",
    "                           'NumSaturatedRings', 'NumValenceElectrons',\n",
    "                            ]"
   ]
  },
  {
   "cell_type": "code",
   "execution_count": null,
   "metadata": {},
   "outputs": [],
   "source": [
    "# import inspect\n",
    "# import rdkit.Chem.Descriptors as Descriptors\n",
    "\n",
    "\n",
    "# calc_props = OrderedDict(inspect.getmembers(Descriptors, inspect.isfunction))\n",
    "# for key in list(calc_props.keys()):\n",
    "#     if key.startswith('_'):\n",
    "#         del calc_props[key]\n",
    "#     else:\n",
    "#         thisnot=False\n",
    "#         for myprop in getonly:\n",
    "#             if myprop == key:\n",
    "#                 thisnot=True\n",
    "#         if not thisnot:\n",
    "#             del calc_props[key]\n",
    "\n",
    "\n",
    "# def calc_all(df,calc_props,smiles_col='smiles'):\n",
    "#     df['mol'] = df[smiles_col].apply(Chem.MolFromSmiles)\n",
    "#     for key,val in calc_props.items():\n",
    "#         df[key] = df['mol'].apply(val)\n",
    "#         #df[key] = df['mol'].swifter.apply(val)\n",
    "#     return df\n",
    "# print('Found {} molecular descriptors in RDKIT'.format(len(calc_props)))\n",
    "# #calc_props"
   ]
  },
  {
   "cell_type": "code",
   "execution_count": 10,
   "metadata": {},
   "outputs": [
    {
     "name": "stdout",
     "output_type": "stream",
     "text": [
      "Before properties: ['index', 'inchikey', 'smi_pre', 'smi_post', 'lambda_sTDA (nm)', 'f1_sTDA', 'lumo_dft', 'homo_dft', 'dmom_dft (D)', 'lambda_z (nm)', 'f1_z', 'lumo_z', 'homo_z', 'dmom_z (D)', 'lumo_mopac', 'homo_mopac', 'dmom_mopac (D)', 'lambda_tddft (nm)', 'f1_tddft', 'lambda_exp_max (nm)', 'epsilon_exp_max ', 'lambda_exp_min (nm)', 'epsilon_exp_min ', 'solvent', 'nostda', 'smiles', 'mol', 'morgan_fp_array', 'NHOHCount', 'NOCount', 'NumAliphaticCarbocycles', 'NumAliphaticHeterocycles', 'NumAliphaticRings', 'NumAromaticCarbocycles', 'NumAromaticHeterocycles', 'NumAromaticRings', 'NumHAcceptors', 'NumHDonors', 'NumHeteroatoms', 'NumRadicalElectrons', 'NumRotatableBonds', 'NumSaturatedCarbocycles', 'NumSaturatedHeterocycles', 'NumSaturatedRings', 'NumValenceElectrons', 'valid_smi', 'cannon_smiles', 'gap_mopac', 'gap_zindo', 'gap_dft']\n"
     ]
    }
   ],
   "source": [
    "#from gpmol.features.fingerprint_features import canon_smiles\n",
    "#from gpmol.features.fingerprints3D_features import geo3d_sanity_check\n",
    "#from gpmol.utils.mol import canon_smiles\n",
    "\n",
    "\n",
    "\n",
    "print('Before properties: {}'.format(str(df.columns.tolist())))\n",
    "#df = geo3d_sanity_check(df)\n",
    "#df['smiles'] = df['smi'].apply(canon_smiles)\n",
    "#df['smiles'] = df['SMI']\n",
    "#calc_all(df,calc_props)\n",
    "#df['mol'] = df['smiles'].apply(Chem.MolFromSmiles)\n",
    "#df['morganfps']=df['mol'].apply(applyMorganFP,fp_args={'radius':4, 'nBits':2048})\n",
    "#print(df.shape)\n",
    "#df.head(1)"
   ]
  },
  {
   "cell_type": "code",
   "execution_count": null,
   "metadata": {},
   "outputs": [],
   "source": [
    "#calc_all(df,calc_props)\n",
    "#print('After properties: {}'.format(str(df.columns.tolist())))"
   ]
  },
  {
   "cell_type": "markdown",
   "metadata": {},
   "source": [
    "### Define tools for feature selection"
   ]
  },
  {
   "cell_type": "code",
   "execution_count": 11,
   "metadata": {},
   "outputs": [],
   "source": [
    "def rf_feature_mask(x, y, k):\n",
    "   rf = sklearn.ensemble.RandomForestRegressor()\n",
    "   rf.fit(x,y)\n",
    "   indices = (-rf.feature_importances_).argsort()[:k]\n",
    "   mask = np.zeros_like(rf.feature_importances_)\n",
    "   mask[indices] = 1.0\n",
    "   return mask.astype(bool)\n",
    "\n",
    "class IdentityTransformer(sklearn.preprocessing.FunctionTransformer):\n",
    "    \n",
    "    def __init__(self):\n",
    "        super().__init__(lambda x:x, lambda x:x)\n",
    "\n",
    "class GPFeature():\n",
    "    \n",
    "    def __init__(self, label, x, y, n_features=None, preproc=None):\n",
    "        self.label = label\n",
    "        n_features = n_features or x.shape[-1]\n",
    "        x_feats = x.shape[-1]\n",
    "        if n_features > x_feats:\n",
    "            raise ValueError(f'n_features={n_features} larger than x.shape[-1] {x_feats}')\n",
    "        elif n_features < x_feats:\n",
    "            mask = rf_feature_mask(x, y, n_features)\n",
    "        else:\n",
    "            mask = np.ones(x_feats).astype(bool)\n",
    "        self.mask = mask\n",
    "        preproc = preproc or IdentityTransformer()\n",
    "        self.preproc = preproc.fit(x[:,self.mask])\n",
    "        self.ndim = sum(self.mask)\n",
    "        self.active_dims = np.arange(self.ndim)\n",
    "    \n",
    "    def transform(self, x):\n",
    "        return self.preproc.transform(x[:,self.mask]).astype(np.float64)\n",
    "    \n",
    "def evaluate_result(y_true, y_pred, fold=None):\n",
    "    result = OrderedDict()\n",
    "    result['r2'] = sklearn.metrics.r2_score(y_true,y_pred)\n",
    "    result['rmse'] = np.sqrt(sklearn.metrics.mean_squared_error(y_true,y_pred))\n",
    "    result['mae'] = np.sqrt(sklearn.metrics.mean_absolute_error(y_true,y_pred))\n",
    "    result['r'] = scipy.stats.pearsonr(y_test.ravel(),y_pred.ravel())[0]\n",
    "    if fold:\n",
    "        result['cv'] = fold\n",
    "    return result"
   ]
  },
  {
   "cell_type": "markdown",
   "metadata": {},
   "source": [
    "#### Train/Test split"
   ]
  },
  {
   "cell_type": "code",
   "execution_count": 12,
   "metadata": {},
   "outputs": [
    {
     "name": "stdout",
     "output_type": "stream",
     "text": [
      "700 300\n"
     ]
    }
   ],
   "source": [
    "indices=df.index.tolist()\n",
    "train_index,test_index = sklearn.model_selection.train_test_split(indices, test_size=.30)\n",
    "print(len(train_index),len(test_index))"
   ]
  },
  {
   "cell_type": "markdown",
   "metadata": {},
   "source": [
    "#### Standarize data"
   ]
  },
  {
   "cell_type": "code",
   "execution_count": 13,
   "metadata": {},
   "outputs": [
    {
     "name": "stdout",
     "output_type": "stream",
     "text": [
      "(700, 1) (300, 1)\n"
     ]
    }
   ],
   "source": [
    "target='lambda_sTDA (nm)'\n",
    "y_true = df[target].values.reshape(-1,1).astype(np.float64)\n",
    "y_preproc = sklearn.preprocessing.StandardScaler()\n",
    "y_train = y_preproc.fit_transform(y_true[train_index])\n",
    "y_test = y_true[test_index]\n",
    "print(y_train.shape, y_test.shape)"
   ]
  },
  {
   "cell_type": "markdown",
   "metadata": {},
   "source": [
    "#### Select fingerprint and select the most relevant features that will be used for training"
   ]
  },
  {
   "cell_type": "code",
   "execution_count": 15,
   "metadata": {},
   "outputs": [
    {
     "name": "stdout",
     "output_type": "stream",
     "text": [
      "(1000, 2048)\n"
     ]
    },
    {
     "name": "stderr",
     "output_type": "stream",
     "text": [
      "/tmp/ipykernel_2027900/2958483818.py:3: DataConversionWarning: A column-vector y was passed when a 1d array was expected. Please change the shape of y to (n_samples,), for example using ravel().\n",
      "  rf.fit(x,y)\n"
     ]
    },
    {
     "name": "stdout",
     "output_type": "stream",
     "text": [
      "(700, 200) (300, 200)\n"
     ]
    }
   ],
   "source": [
    "\n",
    "fp = np.vstack(df['morgan_fp_array'])\n",
    "print(fp.shape)\n",
    "#n_features = 200\n",
    "fp_feat = GPFeature('fp', fp[train_index], y_train, 200)\n",
    "fp_train = fp_feat.transform(fp[train_index]) \n",
    "fp_test = fp_feat.transform(fp[test_index]) \n",
    "print(fp_train.shape,fp_test.shape)"
   ]
  },
  {
   "cell_type": "markdown",
   "metadata": {},
   "source": [
    "#### Select Properties"
   ]
  },
  {
   "cell_type": "code",
   "execution_count": 16,
   "metadata": {},
   "outputs": [
    {
     "name": "stderr",
     "output_type": "stream",
     "text": [
      "/tmp/ipykernel_2027900/2958483818.py:3: DataConversionWarning: A column-vector y was passed when a 1d array was expected. Please change the shape of y to (n_samples,), for example using ravel().\n",
      "  rf.fit(x,y)\n"
     ]
    },
    {
     "name": "stdout",
     "output_type": "stream",
     "text": [
      "(700, 4) (300, 4)\n"
     ]
    }
   ],
   "source": [
    "other_features = getonly\n",
    "x_tmp = df[other_features].values\n",
    "#n_features = 4\n",
    "chem_feat = GPFeature('chemoinformatic', x_tmp[train_index],y_train, 4, sklearn.preprocessing.StandardScaler())\n",
    "chem_train = chem_feat.transform(x_tmp[train_index])\n",
    "chem_test = chem_feat.transform(x_tmp[test_index])\n",
    "print(chem_train.shape,chem_test.shape)"
   ]
  },
  {
   "cell_type": "markdown",
   "metadata": {},
   "source": [
    "#### Combine fingerprint and descriptors"
   ]
  },
  {
   "cell_type": "code",
   "execution_count": 17,
   "metadata": {},
   "outputs": [
    {
     "name": "stdout",
     "output_type": "stream",
     "text": [
      "(700, 204) (300, 204)\n"
     ]
    }
   ],
   "source": [
    "x_train = np.hstack((fp_train,chem_train))\n",
    "x_test = np.hstack((fp_test,chem_test))\n",
    "print(x_train.shape,x_test.shape)"
   ]
  },
  {
   "cell_type": "markdown",
   "metadata": {},
   "source": [
    "### GP regression"
   ]
  },
  {
   "cell_type": "markdown",
   "metadata": {},
   "source": [
    "#### Building Kernel"
   ]
  },
  {
   "cell_type": "code",
   "execution_count": 18,
   "metadata": {},
   "outputs": [
    {
     "name": "stderr",
     "output_type": "stream",
     "text": [
      "2025-08-14 15:27:54.048377: I tensorflow/core/common_runtime/gpu/gpu_device.cc:1639] Created device /job:localhost/replica:0/task:0/device:GPU:0 with 38366 MB memory:  -> device: 0, name: NVIDIA A100-SXM4-40GB, pci bus id: 0000:41:00.0, compute capability: 8.0\n"
     ]
    },
    {
     "name": "stdout",
     "output_type": "stream",
     "text": [
      "╒═════════════════════════════╤═══════════╤═════════════╤═════════╤═════════════╤═════════╤═════════╤═════════╕\n",
      "│ name                        │ class     │ transform   │ prior   │ trainable   │ shape   │ dtype   │   value │\n",
      "╞═════════════════════════════╪═══════════╪═════════════╪═════════╪═════════════╪═════════╪═════════╪═════════╡\n",
      "│ Sum.kernels[0].variance     │ Parameter │ Softplus    │         │ True        │ ()      │ float64 │       1 │\n",
      "├─────────────────────────────┼───────────┼─────────────┼─────────┼─────────────┼─────────┼─────────┼─────────┤\n",
      "│ Sum.kernels[0].lengthscales │ Parameter │ Softplus    │         │ True        │ ()      │ float64 │       1 │\n",
      "├─────────────────────────────┼───────────┼─────────────┼─────────┼─────────────┼─────────┼─────────┼─────────┤\n",
      "│ Sum.kernels[1].variance     │ Parameter │ Softplus    │         │ True        │ ()      │ float64 │       1 │\n",
      "├─────────────────────────────┼───────────┼─────────────┼─────────┼─────────────┼─────────┼─────────┼─────────┤\n",
      "│ Sum.kernels[1].lengthscales │ Parameter │ Softplus    │         │ True        │ ()      │ float64 │       1 │\n",
      "╘═════════════════════════════╧═══════════╧═════════════╧═════════╧═════════════╧═════════╧═════════╧═════════╛\n"
     ]
    }
   ],
   "source": [
    "last_dim = 0\n",
    "fp_kernel = gpflow.kernels.RBF(active_dims=fp_feat.active_dims+last_dim)\n",
    "last_dim  = fp_kernel.active_dims[-1]+1\n",
    "chem_kernel = gpflow.kernels.RBF(active_dims=chem_feat.active_dims+last_dim)\n",
    "kernel = fp_kernel + chem_kernel\n",
    "print_summary(kernel)"
   ]
  },
  {
   "cell_type": "markdown",
   "metadata": {},
   "source": [
    "#### Specify kernel"
   ]
  },
  {
   "cell_type": "code",
   "execution_count": 19,
   "metadata": {},
   "outputs": [],
   "source": [
    "model = gpflow.models.GPR(data=(x_train, y_train), kernel=kernel, mean_function=None)"
   ]
  },
  {
   "cell_type": "markdown",
   "metadata": {},
   "source": [
    "#### Optimize model"
   ]
  },
  {
   "cell_type": "code",
   "execution_count": 20,
   "metadata": {},
   "outputs": [
    {
     "name": "stderr",
     "output_type": "stream",
     "text": [
      "2025-08-14 15:28:03.047708: I tensorflow/core/util/cuda_solvers.cc:179] Creating GpuSolver handles for stream 0x556762ec1d80\n"
     ]
    },
    {
     "name": "stdout",
     "output_type": "stream",
     "text": [
      "╒════════════════════════════════════╤═══════════╤══════════════════╤═════════╤═════════════╤═════════╤═════════╤═════════╕\n",
      "│ name                               │ class     │ transform        │ prior   │ trainable   │ shape   │ dtype   │   value │\n",
      "╞════════════════════════════════════╪═══════════╪══════════════════╪═════════╪═════════════╪═════════╪═════════╪═════════╡\n",
      "│ GPR.kernel.kernels[0].variance     │ Parameter │ Softplus         │         │ True        │ ()      │ float64 │ 0.90991 │\n",
      "├────────────────────────────────────┼───────────┼──────────────────┼─────────┼─────────────┼─────────┼─────────┼─────────┤\n",
      "│ GPR.kernel.kernels[0].lengthscales │ Parameter │ Softplus         │         │ True        │ ()      │ float64 │ 3.03073 │\n",
      "├────────────────────────────────────┼───────────┼──────────────────┼─────────┼─────────────┼─────────┼─────────┼─────────┤\n",
      "│ GPR.kernel.kernels[1].variance     │ Parameter │ Softplus         │         │ True        │ ()      │ float64 │ 3.81837 │\n",
      "├────────────────────────────────────┼───────────┼──────────────────┼─────────┼─────────────┼─────────┼─────────┼─────────┤\n",
      "│ GPR.kernel.kernels[1].lengthscales │ Parameter │ Softplus         │         │ True        │ ()      │ float64 │ 4.4086  │\n",
      "├────────────────────────────────────┼───────────┼──────────────────┼─────────┼─────────────┼─────────┼─────────┼─────────┤\n",
      "│ GPR.likelihood.variance            │ Parameter │ Softplus + Shift │         │ True        │ ()      │ float64 │ 0       │\n",
      "╘════════════════════════════════════╧═══════════╧══════════════════╧═════════╧═════════════╧═════════╧═════════╧═════════╛\n"
     ]
    }
   ],
   "source": [
    "opt = gpflow.optimizers.Scipy()\n",
    "\n",
    "def objective():\n",
    "    return - model.log_marginal_likelihood()\n",
    "\n",
    "opt_logs = opt.minimize(objective,\n",
    "                        model.trainable_variables,\n",
    "                        options=dict(maxiter=500))\n",
    "print_summary(model)"
   ]
  },
  {
   "cell_type": "markdown",
   "metadata": {},
   "source": [
    "#### Predict and scale (inverse), print statistics of the model"
   ]
  },
  {
   "cell_type": "code",
   "execution_count": 21,
   "metadata": {},
   "outputs": [
    {
     "data": {
      "text/html": [
       "<div>\n",
       "<style scoped>\n",
       "    .dataframe tbody tr th:only-of-type {\n",
       "        vertical-align: middle;\n",
       "    }\n",
       "\n",
       "    .dataframe tbody tr th {\n",
       "        vertical-align: top;\n",
       "    }\n",
       "\n",
       "    .dataframe thead th {\n",
       "        text-align: right;\n",
       "    }\n",
       "</style>\n",
       "<table border=\"1\" class=\"dataframe\">\n",
       "  <thead>\n",
       "    <tr style=\"text-align: right;\">\n",
       "      <th></th>\n",
       "      <th>r2</th>\n",
       "      <th>rmse</th>\n",
       "      <th>mae</th>\n",
       "      <th>r</th>\n",
       "    </tr>\n",
       "  </thead>\n",
       "  <tbody>\n",
       "    <tr>\n",
       "      <th>0</th>\n",
       "      <td>0.655158</td>\n",
       "      <td>33.328795</td>\n",
       "      <td>4.819296</td>\n",
       "      <td>0.810206</td>\n",
       "    </tr>\n",
       "  </tbody>\n",
       "</table>\n",
       "</div>"
      ],
      "text/plain": [
       "         r2       rmse       mae         r\n",
       "0  0.655158  33.328795  4.819296  0.810206"
      ]
     },
     "execution_count": 21,
     "metadata": {},
     "output_type": "execute_result"
    }
   ],
   "source": [
    "\n",
    "y_pred, y_std  = model.predict_y(x_test)\n",
    "y_pred = y_preproc.inverse_transform(y_pred.numpy())\n",
    "results = [evaluate_result(y_test, y_pred)]\n",
    "pd.DataFrame(results)"
   ]
  },
  {
   "cell_type": "markdown",
   "metadata": {},
   "source": [
    "#### Plot the comparison between predicted and true"
   ]
  },
  {
   "cell_type": "code",
   "execution_count": 22,
   "metadata": {},
   "outputs": [
    {
     "data": {
      "text/plain": [
       "Text(0.5, 1.0, 'GPR lambda_sTDA (nm)')"
      ]
     },
     "execution_count": 22,
     "metadata": {},
     "output_type": "execute_result"
    },
    {
     "data": {
      "image/png": "[encoded data removed]",
      "text/plain": [
       "<Figure size 640x480 with 1 Axes>"
      ]
     },
     "metadata": {},
     "output_type": "display_data"
    }
   ],
   "source": [
    "plt.scatter(y_test,y_pred)\n",
    "plt.xlabel('Y Test')\n",
    "plt.ylabel('Y Pred')\n",
    "plt.title(f\"GPR {target}\")"
   ]
  },
  {
   "cell_type": "code",
   "execution_count": null,
   "metadata": {},
   "outputs": [],
   "source": []
  }
 ],
 "metadata": {
  "kernelspec": {
   "display_name": "solarcelldata2025",
   "language": "python",
   "name": "solarcelldata2025"
  },
  "language_info": {
   "codemirror_mode": {
    "name": "ipython",
    "version": 3
   },
   "file_extension": ".py",
   "mimetype": "text/x-python",
   "name": "python",
   "nbconvert_exporter": "python",
   "pygments_lexer": "ipython3",
   "version": "3.9.0"
  }
 },
 "nbformat": 4,
 "nbformat_minor": 4
}
